{
 "cells": [
  {
   "cell_type": "code",
   "execution_count": 59,
   "id": "4a087d9d-bfa8-4aa7-a9b4-3b346beffcab",
   "metadata": {},
   "outputs": [],
   "source": [
    "from transformers import pipeline"
   ]
  },
  {
   "cell_type": "code",
   "execution_count": 60,
   "id": "497709b9-8e4b-42a8-9c94-f791d000d727",
   "metadata": {},
   "outputs": [
    {
     "data": {
      "application/vnd.jupyter.widget-view+json": {
       "model_id": "cf19a9828cc64d36bd92bd02ca1d18ea",
       "version_major": 2,
       "version_minor": 0
      },
      "text/plain": [
       "config.json:   0%|          | 0.00/7.87k [00:00<?, ?B/s]"
      ]
     },
     "metadata": {},
     "output_type": "display_data"
    },
    {
     "name": "stderr",
     "output_type": "stream",
     "text": [
      "C:\\Users\\ajinf\\AppData\\Local\\Programs\\Python\\Python310\\lib\\site-packages\\huggingface_hub\\file_download.py:140: UserWarning: `huggingface_hub` cache-system uses symlinks by default to efficiently store duplicated files but your machine does not support them in C:\\Users\\ajinf\\.cache\\huggingface\\hub\\models--facebook--musicgen-small. Caching files will still work but in a degraded version that might require more space on your disk. This warning can be disabled by setting the `HF_HUB_DISABLE_SYMLINKS_WARNING` environment variable. For more details, see https://huggingface.co/docs/huggingface_hub/how-to-cache#limitations.\n",
      "To support symlinks on Windows, you either need to activate Developer Mode or to run Python as an administrator. In order to activate developer mode, see this article: https://docs.microsoft.com/en-us/windows/apps/get-started/enable-your-device-for-development\n",
      "  warnings.warn(message)\n"
     ]
    },
    {
     "data": {
      "application/vnd.jupyter.widget-view+json": {
       "model_id": "eb68b769490e494f99e77d9ed8fbf5ea",
       "version_major": 2,
       "version_minor": 0
      },
      "text/plain": [
       "model.safetensors:   0%|          | 0.00/2.36G [00:00<?, ?B/s]"
      ]
     },
     "metadata": {},
     "output_type": "display_data"
    },
    {
     "name": "stderr",
     "output_type": "stream",
     "text": [
      "Config of the text_encoder: <class 'transformers.models.t5.modeling_t5.T5EncoderModel'> is overwritten by shared text_encoder config: T5Config {\n",
      "  \"_name_or_path\": \"t5-base\",\n",
      "  \"architectures\": [\n",
      "    \"T5ForConditionalGeneration\"\n",
      "  ],\n",
      "  \"classifier_dropout\": 0.0,\n",
      "  \"d_ff\": 3072,\n",
      "  \"d_kv\": 64,\n",
      "  \"d_model\": 768,\n",
      "  \"decoder_start_token_id\": 0,\n",
      "  \"dense_act_fn\": \"relu\",\n",
      "  \"dropout_rate\": 0.1,\n",
      "  \"eos_token_id\": 1,\n",
      "  \"feed_forward_proj\": \"relu\",\n",
      "  \"initializer_factor\": 1.0,\n",
      "  \"is_encoder_decoder\": true,\n",
      "  \"is_gated_act\": false,\n",
      "  \"layer_norm_epsilon\": 1e-06,\n",
      "  \"model_type\": \"t5\",\n",
      "  \"n_positions\": 512,\n",
      "  \"num_decoder_layers\": 12,\n",
      "  \"num_heads\": 12,\n",
      "  \"num_layers\": 12,\n",
      "  \"output_past\": true,\n",
      "  \"pad_token_id\": 0,\n",
      "  \"relative_attention_max_distance\": 128,\n",
      "  \"relative_attention_num_buckets\": 32,\n",
      "  \"task_specific_params\": {\n",
      "    \"summarization\": {\n",
      "      \"early_stopping\": true,\n",
      "      \"length_penalty\": 2.0,\n",
      "      \"max_length\": 200,\n",
      "      \"min_length\": 30,\n",
      "      \"no_repeat_ngram_size\": 3,\n",
      "      \"num_beams\": 4,\n",
      "      \"prefix\": \"summarize: \"\n",
      "    },\n",
      "    \"translation_en_to_de\": {\n",
      "      \"early_stopping\": true,\n",
      "      \"max_length\": 300,\n",
      "      \"num_beams\": 4,\n",
      "      \"prefix\": \"translate English to German: \"\n",
      "    },\n",
      "    \"translation_en_to_fr\": {\n",
      "      \"early_stopping\": true,\n",
      "      \"max_length\": 300,\n",
      "      \"num_beams\": 4,\n",
      "      \"prefix\": \"translate English to French: \"\n",
      "    },\n",
      "    \"translation_en_to_ro\": {\n",
      "      \"early_stopping\": true,\n",
      "      \"max_length\": 300,\n",
      "      \"num_beams\": 4,\n",
      "      \"prefix\": \"translate English to Romanian: \"\n",
      "    }\n",
      "  },\n",
      "  \"transformers_version\": \"4.47.1\",\n",
      "  \"use_cache\": true,\n",
      "  \"vocab_size\": 32128\n",
      "}\n",
      "\n",
      "Config of the audio_encoder: <class 'transformers.models.encodec.modeling_encodec.EncodecModel'> is overwritten by shared audio_encoder config: EncodecConfig {\n",
      "  \"_name_or_path\": \"facebook/encodec_32khz\",\n",
      "  \"architectures\": [\n",
      "    \"EncodecModel\"\n",
      "  ],\n",
      "  \"audio_channels\": 1,\n",
      "  \"chunk_length_s\": null,\n",
      "  \"codebook_dim\": 128,\n",
      "  \"codebook_size\": 2048,\n",
      "  \"compress\": 2,\n",
      "  \"dilation_growth_rate\": 2,\n",
      "  \"hidden_size\": 128,\n",
      "  \"kernel_size\": 7,\n",
      "  \"last_kernel_size\": 7,\n",
      "  \"model_type\": \"encodec\",\n",
      "  \"norm_type\": \"weight_norm\",\n",
      "  \"normalize\": false,\n",
      "  \"num_filters\": 64,\n",
      "  \"num_lstm_layers\": 2,\n",
      "  \"num_residual_layers\": 1,\n",
      "  \"overlap\": null,\n",
      "  \"pad_mode\": \"reflect\",\n",
      "  \"residual_kernel_size\": 3,\n",
      "  \"sampling_rate\": 32000,\n",
      "  \"target_bandwidths\": [\n",
      "    2.2\n",
      "  ],\n",
      "  \"torch_dtype\": \"float32\",\n",
      "  \"transformers_version\": \"4.47.1\",\n",
      "  \"trim_right_ratio\": 1.0,\n",
      "  \"upsampling_ratios\": [\n",
      "    8,\n",
      "    5,\n",
      "    4,\n",
      "    4\n",
      "  ],\n",
      "  \"use_causal_conv\": false,\n",
      "  \"use_conv_shortcut\": false\n",
      "}\n",
      "\n",
      "Config of the decoder: <class 'transformers.models.musicgen.modeling_musicgen.MusicgenForCausalLM'> is overwritten by shared decoder config: MusicgenDecoderConfig {\n",
      "  \"activation_dropout\": 0.0,\n",
      "  \"activation_function\": \"gelu\",\n",
      "  \"attention_dropout\": 0.0,\n",
      "  \"audio_channels\": 1,\n",
      "  \"bos_token_id\": 2048,\n",
      "  \"classifier_dropout\": 0.0,\n",
      "  \"dropout\": 0.1,\n",
      "  \"ffn_dim\": 4096,\n",
      "  \"hidden_size\": 1024,\n",
      "  \"initializer_factor\": 0.02,\n",
      "  \"layerdrop\": 0.0,\n",
      "  \"max_position_embeddings\": 2048,\n",
      "  \"model_type\": \"musicgen_decoder\",\n",
      "  \"num_attention_heads\": 16,\n",
      "  \"num_codebooks\": 4,\n",
      "  \"num_hidden_layers\": 24,\n",
      "  \"pad_token_id\": 2048,\n",
      "  \"scale_embedding\": false,\n",
      "  \"tie_word_embeddings\": false,\n",
      "  \"transformers_version\": \"4.47.1\",\n",
      "  \"use_cache\": true,\n",
      "  \"vocab_size\": 2048\n",
      "}\n",
      "\n"
     ]
    },
    {
     "data": {
      "application/vnd.jupyter.widget-view+json": {
       "model_id": "872e52d3f7cf40d5b96b1d729d71ee46",
       "version_major": 2,
       "version_minor": 0
      },
      "text/plain": [
       "generation_config.json:   0%|          | 0.00/224 [00:00<?, ?B/s]"
      ]
     },
     "metadata": {},
     "output_type": "display_data"
    },
    {
     "data": {
      "application/vnd.jupyter.widget-view+json": {
       "model_id": "51b18c4e2858465780357fc96ff0a045",
       "version_major": 2,
       "version_minor": 0
      },
      "text/plain": [
       "tokenizer_config.json:   0%|          | 0.00/2.37k [00:00<?, ?B/s]"
      ]
     },
     "metadata": {},
     "output_type": "display_data"
    },
    {
     "data": {
      "application/vnd.jupyter.widget-view+json": {
       "model_id": "ee2c7f2b89554882963edf96e3cce90e",
       "version_major": 2,
       "version_minor": 0
      },
      "text/plain": [
       "spiece.model:   0%|          | 0.00/792k [00:00<?, ?B/s]"
      ]
     },
     "metadata": {},
     "output_type": "display_data"
    },
    {
     "data": {
      "application/vnd.jupyter.widget-view+json": {
       "model_id": "05798d2543094177a22ec02779562b5d",
       "version_major": 2,
       "version_minor": 0
      },
      "text/plain": [
       "tokenizer.json:   0%|          | 0.00/2.42M [00:00<?, ?B/s]"
      ]
     },
     "metadata": {},
     "output_type": "display_data"
    },
    {
     "data": {
      "application/vnd.jupyter.widget-view+json": {
       "model_id": "5f0a8e82938940db9c7d5f119ac29104",
       "version_major": 2,
       "version_minor": 0
      },
      "text/plain": [
       "special_tokens_map.json:   0%|          | 0.00/2.20k [00:00<?, ?B/s]"
      ]
     },
     "metadata": {},
     "output_type": "display_data"
    },
    {
     "name": "stderr",
     "output_type": "stream",
     "text": [
      "Device set to use cpu\n"
     ]
    }
   ],
   "source": [
    "music_generator = pipeline(task=\"text-to-audio\", model=\"facebook/musicgen-small\", framework=\"pt\")"
   ]
  },
  {
   "cell_type": "code",
   "execution_count": 63,
   "id": "4f62ade5-c35f-42b7-b590-e1cc19cf43c5",
   "metadata": {},
   "outputs": [],
   "source": [
    "generate_kwargs = {\"do_sample\": True, \"temperature\": 0.7, \"max_new_tokens\": 35,}"
   ]
  },
  {
   "cell_type": "code",
   "execution_count": 116,
   "id": "4b992011-3014-4978-803f-6eb3dc71bcf9",
   "metadata": {},
   "outputs": [],
   "source": [
    "outputs = music_generator(\"Drums\", generate_kwargs=generate_kwargs)"
   ]
  },
  {
   "cell_type": "code",
   "execution_count": 117,
   "id": "9a45c181-f51c-4161-9fcd-99ab49919620",
   "metadata": {},
   "outputs": [
    {
     "data": {
      "text/plain": [
       "{'audio': array([[[-0.00481221, -0.00390784, -0.00364288, ..., -0.00453228,\n",
       "          -0.00667244, -0.00615914]]], dtype=float32),\n",
       " 'sampling_rate': 32000}"
      ]
     },
     "execution_count": 117,
     "metadata": {},
     "output_type": "execute_result"
    }
   ],
   "source": [
    "outputs"
   ]
  },
  {
   "cell_type": "code",
   "execution_count": 118,
   "id": "49ed1b10-702b-4a47-a3ff-3ca555b3af44",
   "metadata": {},
   "outputs": [
    {
     "data": {
      "text/html": [
       "\n",
       "                <audio  controls=\"controls\" >\n",
       "                    <source src=\"data:audio/wav;base64,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\" type=\"audio/wav\" />\n",
       "                    Your browser does not support the audio element.\n",
       "                </audio>\n",
       "              "
      ],
      "text/plain": [
       "<IPython.lib.display.Audio object>"
      ]
     },
     "execution_count": 118,
     "metadata": {},
     "output_type": "execute_result"
    }
   ],
   "source": [
    "import IPython.display as ipd\n",
    "\n",
    "# Extract waveform and sampling rate\n",
    "# Convert 3D array to 1D array\n",
    "waveform = outputs['audio'][0][0]  # Removes singleton dimensions\n",
    "sampling_rate = outputs['sampling_rate']\n",
    "\n",
    "# Play the audio\n",
    "ipd.Audio(waveform, rate=sampling_rate)"
   ]
  },
  {
   "cell_type": "code",
   "execution_count": 133,
   "id": "2fb23cac-bca0-472a-8ee4-5c609a1ba2f8",
   "metadata": {},
   "outputs": [
    {
     "name": "stderr",
     "output_type": "stream",
     "text": [
      "Device set to use cpu\n"
     ]
    },
    {
     "name": "stdout",
     "output_type": "stream",
     "text": [
      "[{'label': 'POSITIVE', 'score': 0.9972884654998779}]\n"
     ]
    }
   ],
   "source": [
    "from transformers import pipeline\n",
    "\n",
    "# Use a model fine-tuned for sentiment analysis\n",
    "classifier = pipeline(\"sentiment-analysis\", model=\"distilbert-base-uncased-finetuned-sst-2-english\")\n",
    "\n",
    "# Example text\n",
    "text = \"I don't hate using BERT for NLP tasks but I do sometimes!\"\n",
    "\n",
    "# Perform sentiment analysis\n",
    "result = classifier(text)\n",
    "print(result)"
   ]
  },
  {
   "cell_type": "code",
   "execution_count": null,
   "id": "74de1627-b655-46ee-adf3-2548afafa3ef",
   "metadata": {},
   "outputs": [],
   "source": []
  }
 ],
 "metadata": {
  "kernelspec": {
   "display_name": "Python 3 (ipykernel)",
   "language": "python",
   "name": "python3"
  },
  "language_info": {
   "codemirror_mode": {
    "name": "ipython",
    "version": 3
   },
   "file_extension": ".py",
   "mimetype": "text/x-python",
   "name": "python",
   "nbconvert_exporter": "python",
   "pygments_lexer": "ipython3",
   "version": "3.10.0"
  }
 },
 "nbformat": 4,
 "nbformat_minor": 5
}
